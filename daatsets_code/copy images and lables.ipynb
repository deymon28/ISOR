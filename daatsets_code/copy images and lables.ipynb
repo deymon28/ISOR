{
 "cells": [
  {
   "cell_type": "markdown",
   "metadata": {},
   "source": [
    "Копіювання зображень з папки в паку рандомно"
   ]
  },
  {
   "cell_type": "code",
   "execution_count": null,
   "metadata": {},
   "outputs": [
    {
     "name": "stdout",
     "output_type": "stream",
     "text": [
      "Copied 1437 images to 'C:\\Users\\dimag\\Desktop\\samll-dataset\\images\\test'.\n"
     ]
    }
   ],
   "source": [
    "import os\n",
    "import random\n",
    "import shutil\n",
    "from pathlib import Path\n",
    "\n",
    "def copy_random_images(src_folder, dest_folder, percentage=0.02):\n",
    "    src_folder = Path(src_folder)\n",
    "    dest_folder = Path(dest_folder)\n",
    "\n",
    "    if not dest_folder.exists():\n",
    "        dest_folder.mkdir(parents=True)\n",
    "\n",
    "    image_extensions = {'.jpg', '.jpeg', '.png', '.bmp', '.tiff', '.gif'}\n",
    "    images = [img for img in src_folder.iterdir() if img.suffix.lower() in image_extensions]\n",
    "\n",
    "    sample_size = int(len(images) * percentage)\n",
    "\n",
    "    selected_images = random.sample(images, sample_size)\n",
    "\n",
    "    for image in selected_images:\n",
    "        shutil.copy(image, dest_folder / image.name)\n",
    "\n",
    "    print(f\"Copied {len(selected_images)} images to '{dest_folder}'.\")\n",
    "\n",
    "source_folder = r\"D:\\DYPLOMA\\DOTAv1.5-big\\images\\test\"\n",
    "destination_folder = r\"C:\\Users\\dimag\\Desktop\\samll-dataset\\images\\test\"\n",
    "copy_random_images(source_folder, destination_folder)\n"
   ]
  },
  {
   "cell_type": "markdown",
   "metadata": {},
   "source": [
    "копіювання зображень і анотацій"
   ]
  },
  {
   "cell_type": "code",
   "execution_count": null,
   "metadata": {},
   "outputs": [],
   "source": [
    "import os\n",
    "import random\n",
    "import shutil\n",
    "from pathlib import Path\n",
    "\n",
    "def copy_random_images_and_annotations(src_image_folder, dest_image_folder, src_annot_folder, dest_annot_folder, percentage=0.1):\n",
    "\n",
    "    src_image_folder = Path(src_image_folder)\n",
    "    dest_image_folder = Path(dest_image_folder)\n",
    "    src_annot_folder = Path(src_annot_folder)\n",
    "    dest_annot_folder = Path(dest_annot_folder)\n",
    "\n",
    "    if not dest_image_folder.exists():\n",
    "        dest_image_folder.mkdir(parents=True)\n",
    "    if not dest_annot_folder.exists():\n",
    "        dest_annot_folder.mkdir(parents=True)\n",
    "\n",
    "    image_extensions = {'.jpg', '.jpeg', '.png', '.bmp', '.tiff', '.gif'}\n",
    "    images = [img for img in src_image_folder.iterdir() if img.suffix.lower() in image_extensions]\n",
    "\n",
    "    sample_size = int(len(images) * percentage)\n",
    "\n",
    "    selected_images = random.sample(images, sample_size)\n",
    "\n",
    "    for image in selected_images:\n",
    "        shutil.copy(image, dest_image_folder / image.name)\n",
    "\n",
    "        annotation_file = src_annot_folder / (image.stem + \".txt\")\n",
    "        if annotation_file.exists():\n",
    "            shutil.copy(annotation_file, dest_annot_folder / annotation_file.name)\n",
    "\n",
    "    print(f\"Copied {len(selected_images)} images and corresponding annotations to '{dest_image_folder}' and '{dest_annot_folder}'.\")\n",
    "\n",
    "# Example usage\n",
    "source_image_folder = r\"D:\\DYPLOMA\\DOTAv1.5-1024\\images\\val\"\n",
    "destination_image_folder = r\"C:\\Users\\dimag\\Desktop\\samll-dataset\\images\\val\"\n",
    "source_annotation_folder = r\"D:\\DYPLOMA\\DOTAv1.5-1024\\labels\\val\"\n",
    "destination_annotation_folder = r\"C:\\Users\\dimag\\Desktop\\samll-dataset\\labels\\val\"\n",
    "copy_random_images_and_annotations(source_image_folder, destination_image_folder, source_annotation_folder, destination_annotation_folder)\n"
   ]
  }
 ],
 "metadata": {
  "accelerator": "GPU",
  "colab": {
   "gpuType": "T4",
   "provenance": []
  },
  "kaggle": {
   "accelerator": "nvidiaTeslaT4",
   "dataSources": [
    {
     "datasetId": 3649216,
     "sourceId": 6633966,
     "sourceType": "datasetVersion"
    },
    {
     "sourceId": 145625572,
     "sourceType": "kernelVersion"
    }
   ],
   "dockerImageVersionId": 30787,
   "isGpuEnabled": true,
   "isInternetEnabled": true,
   "language": "python",
   "sourceType": "notebook"
  },
  "kernelspec": {
   "display_name": "Python 3",
   "language": "python",
   "name": "python3"
  },
  "language_info": {
   "codemirror_mode": {
    "name": "ipython",
    "version": 3
   },
   "file_extension": ".py",
   "mimetype": "text/x-python",
   "name": "python",
   "nbconvert_exporter": "python",
   "pygments_lexer": "ipython3",
   "version": "3.11.2"
  }
 },
 "nbformat": 4,
 "nbformat_minor": 0
}
