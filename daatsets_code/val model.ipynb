{
 "cells": [
  {
   "cell_type": "markdown",
   "metadata": {},
   "source": [
    "Валвдація і тес навчених ваг моделі"
   ]
  },
  {
   "cell_type": "code",
   "execution_count": 1,
   "metadata": {},
   "outputs": [],
   "source": [
    "import ultralytics\n",
    "from ultralytics import YOLO\n",
    "\n",
    "from ultralytics.data.utils import autosplit\n",
    "\n",
    "from ultralytics.utils.ops import xyxy2xywhn"
   ]
  },
  {
   "cell_type": "code",
   "execution_count": null,
   "metadata": {},
   "outputs": [],
   "source": [
    "\n",
    "model = YOLO(r\"C:\\Users\\dimag\\Desktop\\Диплом\\готова частина\\yolo results and tests\\detect_results_dota_big_3ep\\obb\\train6\\weights\\best.pt\")\n",
    "\n",
    "datapath = r\"C:\\Users\\dimag\\Desktop\\Диплом\\готова частина\\yolo results and tests\\samll-dataset\\dota1.5_my_yolo.yaml\"\n",
    "\n",
    "# results = model.predict(source='/kaggle/input/dotav1-5-big/DOTAv1.5-big/DOTAv1.5-big/images/test', imgsz=1024, save=True, device='cuda:0')\n",
    "import os\n",
    "import random\n",
    "\n",
    "image_dir = r'D:\\DYPLOMA\\DOTAv1.5\\images\\test'\n",
    "\n",
    "image_files = [os.path.join(image_dir, f) for f in os.listdir(image_dir) if f.endswith(('.jpg', '.png', '.jpeg'))]\n",
    "\n",
    "random.shuffle(image_files)\n",
    "sample_size = int(len(image_files) * 0.05)\n",
    "selected_images = image_files[:sample_size]\n",
    "\n",
    "\n",
    "model.val(data=datapath, source=selected_images)\n",
    "\n",
    "# results = model.predict(data=datapath, source=selected_images, imgsz=1024, save=True, device='cuda:0')\n"
   ]
  }
 ],
 "metadata": {
  "accelerator": "GPU",
  "colab": {
   "gpuType": "T4",
   "provenance": []
  },
  "kaggle": {
   "accelerator": "nvidiaTeslaT4",
   "dataSources": [
    {
     "datasetId": 3649216,
     "sourceId": 6633966,
     "sourceType": "datasetVersion"
    },
    {
     "sourceId": 145625572,
     "sourceType": "kernelVersion"
    }
   ],
   "dockerImageVersionId": 30787,
   "isGpuEnabled": true,
   "isInternetEnabled": true,
   "language": "python",
   "sourceType": "notebook"
  },
  "kernelspec": {
   "display_name": "Python 3",
   "language": "python",
   "name": "python3"
  },
  "language_info": {
   "codemirror_mode": {
    "name": "ipython",
    "version": 3
   },
   "file_extension": ".py",
   "mimetype": "text/x-python",
   "name": "python",
   "nbconvert_exporter": "python",
   "pygments_lexer": "ipython3",
   "version": "3.12.7"
  }
 },
 "nbformat": 4,
 "nbformat_minor": 0
}
